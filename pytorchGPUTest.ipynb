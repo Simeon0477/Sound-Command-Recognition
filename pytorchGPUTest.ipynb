{
 "cells": [
  {
   "cell_type": "code",
   "execution_count": 9,
   "id": "89c2be37",
   "metadata": {},
   "outputs": [],
   "source": [
    "import torch\n",
    "import torchvision\n",
    "import torchaudio\n",
    "import whisper"
   ]
  },
  {
   "cell_type": "code",
   "execution_count": 4,
   "id": "29318104",
   "metadata": {},
   "outputs": [
    {
     "data": {
      "text/plain": [
       "'2.7.0+cu118'"
      ]
     },
     "execution_count": 4,
     "metadata": {},
     "output_type": "execute_result"
    }
   ],
   "source": [
    "torch.__version__"
   ]
  },
  {
   "cell_type": "code",
   "execution_count": 5,
   "id": "baaa3022",
   "metadata": {},
   "outputs": [
    {
     "data": {
      "text/plain": [
       "'0.22.0+cu118'"
      ]
     },
     "execution_count": 5,
     "metadata": {},
     "output_type": "execute_result"
    }
   ],
   "source": [
    "torchvision.__version__ "
   ]
  },
  {
   "cell_type": "code",
   "execution_count": 6,
   "id": "0537bd62",
   "metadata": {},
   "outputs": [
    {
     "data": {
      "text/plain": [
       "'2.7.0+cu118'"
      ]
     },
     "execution_count": 6,
     "metadata": {},
     "output_type": "execute_result"
    }
   ],
   "source": [
    "torchaudio.__version__"
   ]
  },
  {
   "cell_type": "code",
   "execution_count": 7,
   "id": "8be82248",
   "metadata": {},
   "outputs": [
    {
     "data": {
      "text/plain": [
       "True"
      ]
     },
     "execution_count": 7,
     "metadata": {},
     "output_type": "execute_result"
    }
   ],
   "source": [
    "torch.cuda.is_available()"
   ]
  },
  {
   "cell_type": "code",
   "execution_count": 8,
   "id": "9bd7d7a6",
   "metadata": {},
   "outputs": [
    {
     "data": {
      "text/plain": [
       "'NVIDIA GeForce GTX 1660 Ti'"
      ]
     },
     "execution_count": 8,
     "metadata": {},
     "output_type": "execute_result"
    }
   ],
   "source": [
    "torch.cuda.get_device_name(0)"
   ]
  },
  {
   "cell_type": "code",
   "execution_count": 10,
   "id": "b5a017ce",
   "metadata": {},
   "outputs": [
    {
     "name": "stderr",
     "output_type": "stream",
     "text": [
      "100%|███████████████████████████████████████| 461M/461M [02:23<00:00, 3.37MiB/s]\n"
     ]
    }
   ],
   "source": [
    "test = whisper.load_model(\"small\").to(\"cuda\")"
   ]
  },
  {
   "cell_type": "code",
   "execution_count": 11,
   "id": "605bdc0e",
   "metadata": {},
   "outputs": [],
   "source": [
    "resultat = test.transcribe(\"Indila.mp3\")"
   ]
  },
  {
   "cell_type": "code",
   "execution_count": 12,
   "id": "7add6321",
   "metadata": {},
   "outputs": [
    {
     "data": {
      "text/plain": [
       "{'text': \" He's heavy, he looks like a dog He's the only one who talks to him Often he's not crazy He loves everything, he sees everything He's standing, standing, a rose is leading No, no one holds it back Dans ce love story Prends ma main, prends mes mois que tout ira bien C'est moi fort, près de toi je rêve encore Oui, oui je veux rester mais je ne sais plus aimer J'ai été trop bête, je t'en prie arrête Arrête comme je regrette, non, je ne voulais pas tout ça Je serai riche et je t'offrirai tout mon or et si tu t'en fies je Je t'attendrai sur le port et si tu m'ignores Je t'offrirai mon dernier souffle de vie Dans ma love story Une bougie peut illuminer la nuit Un sourire peut bâtir tout un ampuré Il y a toi, il y a moi Personne n'y croit mais l'amour fait d'un fou Moi, si tu m'ignores, je ne me battrai encore rien C'est ta love story Love story Love story\",\n",
       " 'segments': [{'id': 0,\n",
       "   'seek': 9000,\n",
       "   'start': 90.0,\n",
       "   'end': 95.0,\n",
       "   'text': \" He's heavy, he looks like a dog\",\n",
       "   'tokens': [50364, 634, 311, 4676, 11, 415, 1542, 411, 257, 3000, 50614],\n",
       "   'temperature': 0.0,\n",
       "   'avg_logprob': -0.6549276133052638,\n",
       "   'compression_ratio': 1.4661654135338347,\n",
       "   'no_speech_prob': 0.8664869070053101},\n",
       "  {'id': 1,\n",
       "   'seek': 9000,\n",
       "   'start': 95.0,\n",
       "   'end': 98.0,\n",
       "   'text': \" He's the only one who talks to him\",\n",
       "   'tokens': [50614, 634, 311, 264, 787, 472, 567, 6686, 281, 796, 50764],\n",
       "   'temperature': 0.0,\n",
       "   'avg_logprob': -0.6549276133052638,\n",
       "   'compression_ratio': 1.4661654135338347,\n",
       "   'no_speech_prob': 0.8664869070053101},\n",
       "  {'id': 2,\n",
       "   'seek': 9000,\n",
       "   'start': 98.0,\n",
       "   'end': 102.0,\n",
       "   'text': \" Often he's not crazy\",\n",
       "   'tokens': [50764, 20043, 415, 311, 406, 3219, 50964],\n",
       "   'temperature': 0.0,\n",
       "   'avg_logprob': -0.6549276133052638,\n",
       "   'compression_ratio': 1.4661654135338347,\n",
       "   'no_speech_prob': 0.8664869070053101},\n",
       "  {'id': 3,\n",
       "   'seek': 9000,\n",
       "   'start': 102.0,\n",
       "   'end': 106.0,\n",
       "   'text': ' He loves everything, he sees everything',\n",
       "   'tokens': [50964, 634, 6752, 1203, 11, 415, 8194, 1203, 51164],\n",
       "   'temperature': 0.0,\n",
       "   'avg_logprob': -0.6549276133052638,\n",
       "   'compression_ratio': 1.4661654135338347,\n",
       "   'no_speech_prob': 0.8664869070053101},\n",
       "  {'id': 4,\n",
       "   'seek': 9000,\n",
       "   'start': 106.0,\n",
       "   'end': 110.0,\n",
       "   'text': \" He's standing, standing, a rose is leading\",\n",
       "   'tokens': [51164,\n",
       "    634,\n",
       "    311,\n",
       "    4877,\n",
       "    11,\n",
       "    4877,\n",
       "    11,\n",
       "    257,\n",
       "    10895,\n",
       "    307,\n",
       "    5775,\n",
       "    51364],\n",
       "   'temperature': 0.0,\n",
       "   'avg_logprob': -0.6549276133052638,\n",
       "   'compression_ratio': 1.4661654135338347,\n",
       "   'no_speech_prob': 0.8664869070053101},\n",
       "  {'id': 5,\n",
       "   'seek': 9000,\n",
       "   'start': 110.0,\n",
       "   'end': 113.0,\n",
       "   'text': ' No, no one holds it back',\n",
       "   'tokens': [51364, 883, 11, 572, 472, 9190, 309, 646, 51514],\n",
       "   'temperature': 0.0,\n",
       "   'avg_logprob': -0.6549276133052638,\n",
       "   'compression_ratio': 1.4661654135338347,\n",
       "   'no_speech_prob': 0.8664869070053101},\n",
       "  {'id': 6,\n",
       "   'seek': 11300,\n",
       "   'start': 113.0,\n",
       "   'end': 128.0,\n",
       "   'text': ' Dans ce love story',\n",
       "   'tokens': [50364, 16897, 1769, 959, 1657, 51114],\n",
       "   'temperature': 0.0,\n",
       "   'avg_logprob': -0.8181063532829285,\n",
       "   'compression_ratio': 0.6923076923076923,\n",
       "   'no_speech_prob': 0.041751641780138016},\n",
       "  {'id': 7,\n",
       "   'seek': 12800,\n",
       "   'start': 129.0,\n",
       "   'end': 137.0,\n",
       "   'text': ' Prends ma main, prends mes mois que tout ira bien',\n",
       "   'tokens': [50414,\n",
       "    430,\n",
       "    4542,\n",
       "    82,\n",
       "    463,\n",
       "    2135,\n",
       "    11,\n",
       "    46750,\n",
       "    3813,\n",
       "    19230,\n",
       "    631,\n",
       "    3486,\n",
       "    3418,\n",
       "    64,\n",
       "    3610,\n",
       "    50814],\n",
       "   'temperature': 0.0,\n",
       "   'avg_logprob': -0.17336224935140954,\n",
       "   'compression_ratio': 1.4502923976608186,\n",
       "   'no_speech_prob': 0.0695873349905014},\n",
       "  {'id': 8,\n",
       "   'seek': 12800,\n",
       "   'start': 137.0,\n",
       "   'end': 144.0,\n",
       "   'text': \" C'est moi fort, près de toi je rêve encore\",\n",
       "   'tokens': [50814,\n",
       "    383,\n",
       "    6,\n",
       "    377,\n",
       "    7748,\n",
       "    5009,\n",
       "    11,\n",
       "    25350,\n",
       "    368,\n",
       "    15648,\n",
       "    1506,\n",
       "    38240,\n",
       "    303,\n",
       "    10122,\n",
       "    51164],\n",
       "   'temperature': 0.0,\n",
       "   'avg_logprob': -0.17336224935140954,\n",
       "   'compression_ratio': 1.4502923976608186,\n",
       "   'no_speech_prob': 0.0695873349905014},\n",
       "  {'id': 9,\n",
       "   'seek': 12800,\n",
       "   'start': 144.0,\n",
       "   'end': 148.0,\n",
       "   'text': ' Oui, oui je veux rester mais je ne sais plus aimer',\n",
       "   'tokens': [51164,\n",
       "    14005,\n",
       "    11,\n",
       "    14367,\n",
       "    1506,\n",
       "    16389,\n",
       "    37197,\n",
       "    2420,\n",
       "    1506,\n",
       "    408,\n",
       "    11757,\n",
       "    1804,\n",
       "    5939,\n",
       "    260,\n",
       "    51364],\n",
       "   'temperature': 0.0,\n",
       "   'avg_logprob': -0.17336224935140954,\n",
       "   'compression_ratio': 1.4502923976608186,\n",
       "   'no_speech_prob': 0.0695873349905014},\n",
       "  {'id': 10,\n",
       "   'seek': 12800,\n",
       "   'start': 148.0,\n",
       "   'end': 152.0,\n",
       "   'text': \" J'ai été trop bête, je t'en prie arrête\",\n",
       "   'tokens': [51364,\n",
       "    508,\n",
       "    6,\n",
       "    1301,\n",
       "    8862,\n",
       "    9006,\n",
       "    272,\n",
       "    12943,\n",
       "    11,\n",
       "    1506,\n",
       "    256,\n",
       "    6,\n",
       "    268,\n",
       "    582,\n",
       "    414,\n",
       "    5539,\n",
       "    12943,\n",
       "    51564],\n",
       "   'temperature': 0.0,\n",
       "   'avg_logprob': -0.17336224935140954,\n",
       "   'compression_ratio': 1.4502923976608186,\n",
       "   'no_speech_prob': 0.0695873349905014},\n",
       "  {'id': 11,\n",
       "   'seek': 12800,\n",
       "   'start': 152.0,\n",
       "   'end': 157.0,\n",
       "   'text': ' Arrête comme je regrette, non, je ne voulais pas tout ça',\n",
       "   'tokens': [51564,\n",
       "    1587,\n",
       "    81,\n",
       "    12943,\n",
       "    5173,\n",
       "    1506,\n",
       "    10879,\n",
       "    975,\n",
       "    11,\n",
       "    2107,\n",
       "    11,\n",
       "    1506,\n",
       "    408,\n",
       "    37242,\n",
       "    1736,\n",
       "    3486,\n",
       "    2788,\n",
       "    51814],\n",
       "   'temperature': 0.0,\n",
       "   'avg_logprob': -0.17336224935140954,\n",
       "   'compression_ratio': 1.4502923976608186,\n",
       "   'no_speech_prob': 0.0695873349905014},\n",
       "  {'id': 12,\n",
       "   'seek': 15800,\n",
       "   'start': 159.0,\n",
       "   'end': 165.0,\n",
       "   'text': \" Je serai riche et je t'offrirai tout mon or et si tu t'en fies je\",\n",
       "   'tokens': [50414,\n",
       "    2588,\n",
       "    816,\n",
       "    1301,\n",
       "    4593,\n",
       "    68,\n",
       "    1030,\n",
       "    1506,\n",
       "    256,\n",
       "    6,\n",
       "    4506,\n",
       "    10949,\n",
       "    1301,\n",
       "    3486,\n",
       "    1108,\n",
       "    420,\n",
       "    1030,\n",
       "    1511,\n",
       "    2604,\n",
       "    256,\n",
       "    6,\n",
       "    268,\n",
       "    283,\n",
       "    530,\n",
       "    1506,\n",
       "    50714],\n",
       "   'temperature': 0.0,\n",
       "   'avg_logprob': -0.15641702505258415,\n",
       "   'compression_ratio': 1.4615384615384615,\n",
       "   'no_speech_prob': 0.006554617080837488},\n",
       "  {'id': 13,\n",
       "   'seek': 15800,\n",
       "   'start': 165.0,\n",
       "   'end': 169.0,\n",
       "   'text': \" Je t'attendrai sur le port et si tu m'ignores\",\n",
       "   'tokens': [50714,\n",
       "    2588,\n",
       "    256,\n",
       "    6,\n",
       "    1591,\n",
       "    27332,\n",
       "    72,\n",
       "    1022,\n",
       "    476,\n",
       "    2436,\n",
       "    1030,\n",
       "    1511,\n",
       "    2604,\n",
       "    275,\n",
       "    6,\n",
       "    788,\n",
       "    2706,\n",
       "    50914],\n",
       "   'temperature': 0.0,\n",
       "   'avg_logprob': -0.15641702505258415,\n",
       "   'compression_ratio': 1.4615384615384615,\n",
       "   'no_speech_prob': 0.006554617080837488},\n",
       "  {'id': 14,\n",
       "   'seek': 15800,\n",
       "   'start': 169.0,\n",
       "   'end': 173.0,\n",
       "   'text': \" Je t'offrirai mon dernier souffle de vie\",\n",
       "   'tokens': [50914,\n",
       "    2588,\n",
       "    256,\n",
       "    6,\n",
       "    4506,\n",
       "    10949,\n",
       "    1301,\n",
       "    1108,\n",
       "    29332,\n",
       "    36966,\n",
       "    306,\n",
       "    368,\n",
       "    4941,\n",
       "    51114],\n",
       "   'temperature': 0.0,\n",
       "   'avg_logprob': -0.15641702505258415,\n",
       "   'compression_ratio': 1.4615384615384615,\n",
       "   'no_speech_prob': 0.006554617080837488},\n",
       "  {'id': 15,\n",
       "   'seek': 15800,\n",
       "   'start': 173.0,\n",
       "   'end': 187.0,\n",
       "   'text': ' Dans ma love story',\n",
       "   'tokens': [51114, 16897, 463, 959, 1657, 51814],\n",
       "   'temperature': 0.0,\n",
       "   'avg_logprob': -0.15641702505258415,\n",
       "   'compression_ratio': 1.4615384615384615,\n",
       "   'no_speech_prob': 0.006554617080837488},\n",
       "  {'id': 16,\n",
       "   'seek': 18800,\n",
       "   'start': 189.0,\n",
       "   'end': 197.0,\n",
       "   'text': ' Une bougie peut illuminer la nuit',\n",
       "   'tokens': [50414, 16701, 46553, 414, 5977, 28593, 260, 635, 38467, 50814],\n",
       "   'temperature': 0.0,\n",
       "   'avg_logprob': -0.1353577267039906,\n",
       "   'compression_ratio': 1.205128205128205,\n",
       "   'no_speech_prob': 0.0029139958787709475},\n",
       "  {'id': 17,\n",
       "   'seek': 18800,\n",
       "   'start': 197.0,\n",
       "   'end': 204.0,\n",
       "   'text': ' Un sourire peut bâtir tout un ampuré',\n",
       "   'tokens': [50814,\n",
       "    1156,\n",
       "    11006,\n",
       "    621,\n",
       "    5977,\n",
       "    272,\n",
       "    3201,\n",
       "    24000,\n",
       "    3486,\n",
       "    517,\n",
       "    18648,\n",
       "    374,\n",
       "    526,\n",
       "    51164],\n",
       "   'temperature': 0.0,\n",
       "   'avg_logprob': -0.1353577267039906,\n",
       "   'compression_ratio': 1.205128205128205,\n",
       "   'no_speech_prob': 0.0029139958787709475},\n",
       "  {'id': 18,\n",
       "   'seek': 18800,\n",
       "   'start': 204.0,\n",
       "   'end': 208.0,\n",
       "   'text': ' Il y a toi, il y a moi',\n",
       "   'tokens': [51164, 4416, 288, 257, 15648, 11, 1930, 288, 257, 7748, 51364],\n",
       "   'temperature': 0.0,\n",
       "   'avg_logprob': -0.1353577267039906,\n",
       "   'compression_ratio': 1.205128205128205,\n",
       "   'no_speech_prob': 0.0029139958787709475},\n",
       "  {'id': 19,\n",
       "   'seek': 18800,\n",
       "   'start': 208.0,\n",
       "   'end': 212.0,\n",
       "   'text': \" Personne n'y croit mais l'amour fait d'un fou\",\n",
       "   'tokens': [51364,\n",
       "    8443,\n",
       "    716,\n",
       "    297,\n",
       "    6,\n",
       "    88,\n",
       "    4848,\n",
       "    270,\n",
       "    2420,\n",
       "    287,\n",
       "    6,\n",
       "    42921,\n",
       "    3887,\n",
       "    274,\n",
       "    6,\n",
       "    409,\n",
       "    32012,\n",
       "    51564],\n",
       "   'temperature': 0.0,\n",
       "   'avg_logprob': -0.1353577267039906,\n",
       "   'compression_ratio': 1.205128205128205,\n",
       "   'no_speech_prob': 0.0029139958787709475},\n",
       "  {'id': 20,\n",
       "   'seek': 21200,\n",
       "   'start': 212.0,\n",
       "   'end': 217.0,\n",
       "   'text': \" Moi, si tu m'ignores, je ne me battrai encore rien\",\n",
       "   'tokens': [50364,\n",
       "    20256,\n",
       "    11,\n",
       "    1511,\n",
       "    2604,\n",
       "    275,\n",
       "    6,\n",
       "    788,\n",
       "    2706,\n",
       "    11,\n",
       "    1506,\n",
       "    408,\n",
       "    385,\n",
       "    9591,\n",
       "    34554,\n",
       "    10122,\n",
       "    13355,\n",
       "    50614],\n",
       "   'temperature': 0.0,\n",
       "   'avg_logprob': -0.4066025062843605,\n",
       "   'compression_ratio': 0.9859154929577465,\n",
       "   'no_speech_prob': 0.166501984000206},\n",
       "  {'id': 21,\n",
       "   'seek': 21200,\n",
       "   'start': 217.0,\n",
       "   'end': 233.0,\n",
       "   'text': \" C'est ta love story\",\n",
       "   'tokens': [50614, 383, 6, 377, 1846, 959, 1657, 51414],\n",
       "   'temperature': 0.0,\n",
       "   'avg_logprob': -0.4066025062843605,\n",
       "   'compression_ratio': 0.9859154929577465,\n",
       "   'no_speech_prob': 0.166501984000206},\n",
       "  {'id': 22,\n",
       "   'seek': 24200,\n",
       "   'start': 242.0,\n",
       "   'end': 264.0,\n",
       "   'text': ' Love story',\n",
       "   'tokens': [50364, 5956, 1657, 51464],\n",
       "   'temperature': 0.0,\n",
       "   'avg_logprob': -0.5647662480672201,\n",
       "   'compression_ratio': 0.5555555555555556,\n",
       "   'no_speech_prob': 0.6890009045600891},\n",
       "  {'id': 23,\n",
       "   'seek': 26400,\n",
       "   'start': 264.0,\n",
       "   'end': 280.0,\n",
       "   'text': ' Love story',\n",
       "   'tokens': [50364, 5956, 1657, 51164],\n",
       "   'temperature': 0.0,\n",
       "   'avg_logprob': -0.2686591386795044,\n",
       "   'compression_ratio': 0.5555555555555556,\n",
       "   'no_speech_prob': 0.6816636919975281}],\n",
       " 'language': 'en'}"
      ]
     },
     "execution_count": 12,
     "metadata": {},
     "output_type": "execute_result"
    }
   ],
   "source": [
    "resultat"
   ]
  },
  {
   "cell_type": "code",
   "execution_count": 15,
   "id": "69d505d3",
   "metadata": {},
   "outputs": [
    {
     "data": {
      "text/plain": [
       "\" He's heavy, he looks like a dog He's the only one who talks to him Often he's not crazy He loves everything, he sees everything He's standing, standing, a rose is leading No, no one holds it back Dans ce love story Prends ma main, prends mes mois que tout ira bien C'est moi fort, près de toi je rêve encore Oui, oui je veux rester mais je ne sais plus aimer J'ai été trop bête, je t'en prie arrête Arrête comme je regrette, non, je ne voulais pas tout ça Je serai riche et je t'offrirai tout mon or et si tu t'en fies je Je t'attendrai sur le port et si tu m'ignores Je t'offrirai mon dernier souffle de vie Dans ma love story Une bougie peut illuminer la nuit Un sourire peut bâtir tout un ampuré Il y a toi, il y a moi Personne n'y croit mais l'amour fait d'un fou Moi, si tu m'ignores, je ne me battrai encore rien C'est ta love story Love story Love story\""
      ]
     },
     "execution_count": 15,
     "metadata": {},
     "output_type": "execute_result"
    }
   ],
   "source": [
    "resultat['text']"
   ]
  },
  {
   "cell_type": "markdown",
   "id": "6c3a2960",
   "metadata": {},
   "source": [
    "# Test Transcription audio : Indila \n",
    "## Langue de l'audio : Francais\n",
    "### Duree de transcription pour 4min44sec = 16.9s\n",
    "### Nom_modele : Small => Meilleur rapport entre vitesse et performance\n",
    "Observation : les premieres phrases de la transcription sont en anglais mais sinon dans l'ensemble c'est un bon resultat puisque nous allons executer des commandes assez simplistes\n"
   ]
  },
  {
   "cell_type": "code",
   "execution_count": null,
   "id": "f6928760",
   "metadata": {},
   "outputs": [],
   "source": [
    "import insightface\n",
    "import onnxruntime"
   ]
  },
  {
   "cell_type": "code",
   "execution_count": 24,
   "id": "4cc38f9b",
   "metadata": {},
   "outputs": [
    {
     "data": {
      "text/plain": [
       "'GPU'"
      ]
     },
     "execution_count": 24,
     "metadata": {},
     "output_type": "execute_result"
    }
   ],
   "source": [
    "onnxruntime.get_device()"
   ]
  },
  {
   "cell_type": "code",
   "execution_count": 25,
   "id": "91777d0e",
   "metadata": {},
   "outputs": [],
   "source": [
    "from insightface.app import FaceAnalysis"
   ]
  },
  {
   "cell_type": "code",
   "execution_count": 27,
   "id": "f1de55d1",
   "metadata": {},
   "outputs": [
    {
     "name": "stdout",
     "output_type": "stream",
     "text": [
      "download_path: C:\\Users\\Nene/.insightface\\models\\buffalo_s\n",
      "Downloading C:\\Users\\Nene/.insightface\\models\\buffalo_s.zip from https://github.com/deepinsight/insightface/releases/download/v0.7/buffalo_s.zip...\n"
     ]
    },
    {
     "name": "stderr",
     "output_type": "stream",
     "text": [
      "100%|██████████| 124617/124617 [02:39<00:00, 782.24KB/s] \n"
     ]
    },
    {
     "name": "stdout",
     "output_type": "stream",
     "text": [
      "Applied providers: ['CPUExecutionProvider'], with options: {'CPUExecutionProvider': {}}\n",
      "find model: C:\\Users\\Nene/.insightface\\models\\buffalo_s\\1k3d68.onnx landmark_3d_68 ['None', 3, 192, 192] 0.0 1.0\n",
      "Applied providers: ['CPUExecutionProvider'], with options: {'CPUExecutionProvider': {}}\n",
      "find model: C:\\Users\\Nene/.insightface\\models\\buffalo_s\\2d106det.onnx landmark_2d_106 ['None', 3, 192, 192] 0.0 1.0\n",
      "Applied providers: ['CPUExecutionProvider'], with options: {'CPUExecutionProvider': {}}\n",
      "find model: C:\\Users\\Nene/.insightface\\models\\buffalo_s\\det_500m.onnx detection [1, 3, '?', '?'] 127.5 128.0\n",
      "Applied providers: ['CPUExecutionProvider'], with options: {'CPUExecutionProvider': {}}\n",
      "find model: C:\\Users\\Nene/.insightface\\models\\buffalo_s\\genderage.onnx genderage ['None', 3, 96, 96] 0.0 1.0\n",
      "Applied providers: ['CPUExecutionProvider'], with options: {'CPUExecutionProvider': {}}\n",
      "find model: C:\\Users\\Nene/.insightface\\models\\buffalo_s\\w600k_mbf.onnx recognition ['None', 3, 112, 112] 127.5 127.5\n",
      "set det-size: (640, 640)\n"
     ]
    }
   ],
   "source": [
    "test2 = FaceAnalysis(name = 'buffalo_s', providers=['CUDAExecutionProvider'])\n",
    "test2.prepare(ctx_id=0)"
   ]
  },
  {
   "cell_type": "code",
   "execution_count": null,
   "id": "6cd7b0cd",
   "metadata": {},
   "outputs": [],
   "source": []
  }
 ],
 "metadata": {
  "kernelspec": {
   "display_name": "ESP_ENV",
   "language": "python",
   "name": "python3"
  },
  "language_info": {
   "codemirror_mode": {
    "name": "ipython",
    "version": 3
   },
   "file_extension": ".py",
   "mimetype": "text/x-python",
   "name": "python",
   "nbconvert_exporter": "python",
   "pygments_lexer": "ipython3",
   "version": "3.9.21"
  }
 },
 "nbformat": 4,
 "nbformat_minor": 5
}
